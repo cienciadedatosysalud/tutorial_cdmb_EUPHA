{
  "nbformat": 4,
  "nbformat_minor": 0,
  "metadata": {
    "colab": {
      "provenance": []
    },
    "kernelspec": {
      "name": "python3",
      "display_name": "Python 3"
    },
    "language_info": {
      "name": "python"
    }
  },
  "cells": [
    {
      "cell_type": "markdown",
      "source": [
        "![logo](https://eupha.org/images/EUPHA_logo.svg)\n",
        "![logo2](https://ephconference.eu/site_images/logo_EPH_site.svg)\n",
        "# Pre-conference: Reuse of sensitive individual data – Methods and tools for a federated approach\n",
        "---\n",
        "# Common Data Model Builder Tutorial (Google Colab)\n",
        "### - Author: **Francisco Estupiñan-Romero**, Institute for Health Sciences (Spain)\n",
        "### - Email: <festupinnan@iacs.es>"
      ],
      "metadata": {
        "id": "p5h9xPw_IEiN"
      }
    },
    {
      "cell_type": "markdown",
      "source": [
        "## STEP 1 - Install all dependencies:"
      ],
      "metadata": {
        "id": "ndPiAfXvQOeW"
      }
    },
    {
      "cell_type": "code",
      "source": [
        "# 1- Install the localtunnel library to make google colab externally accessible.\n",
        "!npm install -g localtunnel"
      ],
      "metadata": {
        "id": "sF010ZC_4P07"
      },
      "execution_count": null,
      "outputs": []
    },
    {
      "cell_type": "code",
      "source": [
        "#Install the library needed to create virtual environments in Python.\n",
        "!pip3 install virtualenv\n",
        "\n",
        "# Create a virtual environment to download the Common Data Model Builder (cdmb) library.\n",
        "# In our case it will be called \"eupha\".\n",
        "!virtualenv eupha"
      ],
      "metadata": {
        "id": "RPSAil5bUPMd"
      },
      "execution_count": null,
      "outputs": []
    },
    {
      "cell_type": "code",
      "source": [
        "# Activate the virtual environment and install the library.\n",
        "!source /content/eupha/bin/activate; pip3 install cdmb"
      ],
      "metadata": {
        "id": "51LJ-Hc3hy_R"
      },
      "execution_count": null,
      "outputs": []
    },
    {
      "cell_type": "markdown",
      "source": [
        "🔼 **Make sure that everything has been installed correctly.**"
      ],
      "metadata": {
        "id": "2hoEjuO3OCHd"
      }
    },
    {
      "cell_type": "markdown",
      "source": [
        "# STEP 2 - Create the Python file for running Common Data Model Builder (cdmb)\n",
        "\n",
        "Following the example of ***how to run [cdmb ui](https://github.com/cienciadedatosysalud/cdmb#example) from python***, provided in the cdmb repository, we create the file ***app.py*** with the necessary code.\n",
        "\n"
      ],
      "metadata": {
        "id": "cZupMEfYL1Qc"
      }
    },
    {
      "cell_type": "code",
      "execution_count": null,
      "metadata": {
        "id": "VB5SOajJTOuf"
      },
      "outputs": [],
      "source": [
        "%%writefile app.py\n",
        "from cdmb import launch_ui\n",
        "\n",
        "server_address = \"0.0.0.0\"\n",
        "port = 8000\n",
        "\n",
        "launch_ui(server_address, port)\n",
        "\n"
      ]
    },
    {
      "cell_type": "code",
      "source": [
        "# Show app.py content to check that it has been created correctly.\n",
        "!cat app.py\n"
      ],
      "metadata": {
        "id": "THFZ95u-DRgg"
      },
      "execution_count": null,
      "outputs": []
    },
    {
      "cell_type": "markdown",
      "source": [
        "# STEP 3 - Get your public IP:\n",
        "\n",
        "In this step, we will display the public IP of your google colab.\n",
        "\n",
        "This IP will be used later.\n",
        "\n",
        "**PLEASE REMEMBER IT AND DO NOT SHARE IT**"
      ],
      "metadata": {
        "id": "XztLvEhHNV3X"
      }
    },
    {
      "cell_type": "code",
      "source": [
        "!echo Your public IP is:\n",
        "\n",
        "!curl ipecho.net/plain\n"
      ],
      "metadata": {
        "id": "396zVjyY9psc"
      },
      "execution_count": null,
      "outputs": []
    },
    {
      "cell_type": "markdown",
      "source": [
        "# STEP 4 - Run the Common Data Model Builder app:\n",
        "\n",
        "At this point, we will run the Common Data Model Builder in the background and set the tunnel to be accessible from the browser.\n",
        "## **(note: the application will be accessible from the outside).**\n",
        "---\n",
        "\n",
        "Once the next cell has been executed. It will terminally display something like the following:\n",
        "\n",
        "\n",
        "\n",
        "> INFO:     Started server process [8528]\n",
        "\n",
        "> INFO:     Waiting for application startup.\n",
        "\n",
        "> INFO:     Application startup complete.\n",
        "\n",
        "> INFO:     Uvicorn running on http://0.0.0.0:8000 (Press CTRL+C to quit)\n",
        "\n",
        "> npx: installed 22 in 4.475s\n",
        "\n",
        "> your url is: https://url_name.loca.lt\n",
        "\n",
        "Please open the url that appears in \"your url is:\" in another browser tab (DO NOT close Google Colab).\n",
        "\n",
        "The application will ask you to insert the IP.\n",
        "\n",
        "Type the IP obtained in **STEP 3** (**Make sure that you do not insert any spaces**)\n",
        "\n",
        "\n",
        "<img src=\"https://github.com/cienciadedatosysalud/tutorial_cdmb_EUPHA/blob/main/img/tunnel_screenshot.png?raw=1\" alt=\"add_ip\" style=\"width:80%;\"/>\n",
        "\n",
        "\n",
        "Once accepted, you should see the Common Data Model Builder interface. Enjoy! 😀\n",
        "\n",
        "<img src=\"https://github.com/cienciadedatosysalud/tutorial_cdmb_EUPHA/blob/main/img/cdmb_ui.png?raw=1\" alt=\"cdmb_ui\" style=\"width:80%;\"/>\n",
        "\n"
      ],
      "metadata": {
        "id": "A5dy-2u2MA-i"
      }
    },
    {
      "cell_type": "code",
      "source": [
        "!source /content/eupha/bin/activate; python3 app.py & npx localtunnel --port 8000\n"
      ],
      "metadata": {
        "id": "AeFKvXLV_oRm"
      },
      "execution_count": null,
      "outputs": []
    },
    {
      "cell_type": "markdown",
      "source": [
        "# **Stop the process before closing the tab.**"
      ],
      "metadata": {
        "id": "ix0IlTfygu5Y"
      }
    }
  ]
}